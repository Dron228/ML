{
 "cells": [
  {
   "cell_type": "markdown",
   "id": "80b28480",
   "metadata": {},
   "source": [
    "# Water quality"
   ]
  },
  {
   "cell_type": "markdown",
   "id": "4f4632ee",
   "metadata": {},
   "source": [
    "Этот набор данных, служит примером для описания качества воды в городе. Итак наша задача состоиит в следующем: по данным дата фрейма определить, возможно ли употреблять данную воду."
   ]
  },
  {
   "cell_type": "code",
   "execution_count": 50,
   "id": "5debc006",
   "metadata": {},
   "outputs": [
    {
     "name": "stdout",
     "output_type": "stream",
     "text": [
      "      aluminium ammonia  arsenic  barium  cadmium  chloramine  chromium  \\\n",
      "0          1.65    9.08     0.04    2.85    0.007        0.35      0.83   \n",
      "1          2.32   21.16     0.01    3.31    0.002        5.28      0.68   \n",
      "2          1.01   14.02     0.04    0.58    0.008        4.24      0.53   \n",
      "3          1.36   11.33     0.04    2.96    0.001        7.23      0.03   \n",
      "4          0.92   24.33     0.03    0.20    0.006        2.67      0.69   \n",
      "...         ...     ...      ...     ...      ...         ...       ...   \n",
      "7994       0.05    7.78     0.00    1.95    0.040        0.10      0.03   \n",
      "7995       0.05   24.22     0.02    0.59    0.010        0.45      0.02   \n",
      "7996       0.09    6.85     0.00    0.61    0.030        0.05      0.05   \n",
      "7997       0.01      10     0.01    2.00    0.000        2.00      0.00   \n",
      "7998       0.04    6.85     0.01    0.70    0.030        0.05      0.01   \n",
      "\n",
      "      copper  flouride  bacteria  ...   lead  nitrates  nitrites  mercury  \\\n",
      "0       0.17      0.05      0.20  ...  0.054     16.08      1.13    0.007   \n",
      "1       0.66      0.90      0.65  ...  0.100      2.01      1.93    0.003   \n",
      "2       0.02      0.99      0.05  ...  0.078     14.16      1.11    0.006   \n",
      "3       1.66      1.08      0.71  ...  0.016      1.41      1.29    0.004   \n",
      "4       0.57      0.61      0.13  ...  0.117      6.74      1.11    0.003   \n",
      "...      ...       ...       ...  ...    ...       ...       ...      ...   \n",
      "7994    0.03      1.37      0.00  ...  0.197     14.29      1.00    0.005   \n",
      "7995    0.02      1.48      0.00  ...  0.031     10.27      1.00    0.001   \n",
      "7996    0.02      0.91      0.00  ...  0.182     15.92      1.00    0.000   \n",
      "7997    0.09      0.00      0.00  ...  0.000      0.00      0.00    0.000   \n",
      "7998    0.03      1.00      0.00  ...  0.182     15.92      1.00    0.000   \n",
      "\n",
      "      perchlorate  radium  selenium  silver  uranium  is_safe  \n",
      "0           37.75    6.78      0.08    0.34     0.02        1  \n",
      "1           32.26    3.21      0.08    0.27     0.05        1  \n",
      "2           50.28    7.07      0.07    0.44     0.01        0  \n",
      "3            9.12    1.72      0.02    0.45     0.05        1  \n",
      "4           16.90    2.41      0.02    0.06     0.02        1  \n",
      "...           ...     ...       ...     ...      ...      ...  \n",
      "7994         3.57    2.13      0.09    0.06     0.03        1  \n",
      "7995         1.48    1.11      0.09    0.10     0.08        1  \n",
      "7996         1.35    4.84      0.00    0.04     0.05        1  \n",
      "7997         0.00    0.00      0.00    0.00     0.00        1  \n",
      "7998         1.35    4.84      0.00    0.04     0.05        1  \n",
      "\n",
      "[7999 rows x 21 columns]\n"
     ]
    }
   ],
   "source": [
    "import numpy as np\n",
    "import pandas as pd\n",
    "import seaborn as sns\n",
    "import matplotlib.pyplot as plt\n",
    "tmp = \"D:/university/ML/waterQuality1.csv\"\n",
    "data_f = pd.read_csv(tmp)\n",
    "print(data_f)"
   ]
  },
  {
   "cell_type": "markdown",
   "id": "a85b15f1",
   "metadata": {},
   "source": [
    "# Description"
   ]
  },
  {
   "cell_type": "markdown",
   "id": "acf580a7",
   "metadata": {},
   "source": [
    "All attributes are numeric variables and they are listed bellow:\n",
    "* aluminium - dangerous if greater than 2.8\n",
    "* ammonia - dangerous if greater than 32.5\n",
    "* arsenic - dangerous if greater than 0.01\n",
    "* barium - dangerous if greater than 2\n",
    "* cadmium - dangerous if greater than 0.005\n",
    "* chloramine - dangerous if greater than 4\n",
    "* chromium - dangerous if greater than 0.1\n",
    "* copper - dangerous if greater than 1.3\n",
    "* flouride - dangerous if greater than 1.5\n",
    "* bacteria - dangerous if greater than 0\n",
    "* viruses - dangerous if greater than 0\n",
    "* lead - dangerous if greater than 0.015\n",
    "* nitrates - dangerous if greater than 10\n",
    "* nitrites - dangerous if greater than 1\n",
    "* mercury - dangerous if greater than 0.002\n",
    "* perchlorate - dangerous if greater than 56\n",
    "* radium - dangerous if greater than 5\n",
    "* selenium - dangerous if greater than 0.5\n",
    "* silver - dangerous if greater than 0.1\n",
    "* uranium - dangerous if greater than 0.3\n",
    "* is_safe - class attribute {0 - not safe, 1 - safe}"
   ]
  },
  {
   "cell_type": "code",
   "execution_count": 51,
   "id": "ef47d3fe",
   "metadata": {},
   "outputs": [
    {
     "name": "stdout",
     "output_type": "stream",
     "text": [
      "<class 'pandas.core.frame.DataFrame'>\n",
      "RangeIndex: 7999 entries, 0 to 7998\n",
      "Data columns (total 21 columns):\n",
      " #   Column       Non-Null Count  Dtype  \n",
      "---  ------       --------------  -----  \n",
      " 0   aluminium    7999 non-null   float64\n",
      " 1   ammonia      7999 non-null   object \n",
      " 2   arsenic      7999 non-null   float64\n",
      " 3   barium       7999 non-null   float64\n",
      " 4   cadmium      7999 non-null   float64\n",
      " 5   chloramine   7999 non-null   float64\n",
      " 6   chromium     7999 non-null   float64\n",
      " 7   copper       7999 non-null   float64\n",
      " 8   flouride     7999 non-null   float64\n",
      " 9   bacteria     7999 non-null   float64\n",
      " 10  viruses      7999 non-null   float64\n",
      " 11  lead         7999 non-null   float64\n",
      " 12  nitrates     7999 non-null   float64\n",
      " 13  nitrites     7999 non-null   float64\n",
      " 14  mercury      7999 non-null   float64\n",
      " 15  perchlorate  7999 non-null   float64\n",
      " 16  radium       7999 non-null   float64\n",
      " 17  selenium     7999 non-null   float64\n",
      " 18  silver       7999 non-null   float64\n",
      " 19  uranium      7999 non-null   float64\n",
      " 20  is_safe      7999 non-null   object \n",
      "dtypes: float64(19), object(2)\n",
      "memory usage: 1.3+ MB\n"
     ]
    }
   ],
   "source": [
    "data_f.info()"
   ]
  },
  {
   "cell_type": "markdown",
   "id": "6737bc03",
   "metadata": {},
   "source": [
    "object означает наличие пропущенных значений в ammonia и в is_safe"
   ]
  },
  {
   "cell_type": "code",
   "execution_count": 52,
   "id": "c25fbf05",
   "metadata": {},
   "outputs": [
    {
     "data": {
      "text/plain": [
       "0        7084\n",
       "1         912\n",
       "#NUM!       3\n",
       "Name: is_safe, dtype: int64"
      ]
     },
     "execution_count": 52,
     "metadata": {},
     "output_type": "execute_result"
    }
   ],
   "source": [
    "data_f['is_safe'].value_counts()"
   ]
  },
  {
   "cell_type": "markdown",
   "id": "9fe7f40c",
   "metadata": {},
   "source": [
    "У целевого признака (is_safe) наблюдается несбалансированность классов: обьектов класса 0 больше, чем объектов класса 1"
   ]
  },
  {
   "cell_type": "code",
   "execution_count": 53,
   "id": "5490beaa",
   "metadata": {},
   "outputs": [
    {
     "data": {
      "text/plain": [
       "aluminium      0\n",
       "ammonia        0\n",
       "arsenic        0\n",
       "barium         0\n",
       "cadmium        0\n",
       "chloramine     0\n",
       "chromium       0\n",
       "copper         0\n",
       "flouride       0\n",
       "bacteria       0\n",
       "viruses        0\n",
       "lead           0\n",
       "nitrates       0\n",
       "nitrites       0\n",
       "mercury        0\n",
       "perchlorate    0\n",
       "radium         0\n",
       "selenium       0\n",
       "silver         0\n",
       "uranium        0\n",
       "is_safe        0\n",
       "dtype: int64"
      ]
     },
     "execution_count": 53,
     "metadata": {},
     "output_type": "execute_result"
    }
   ],
   "source": [
    "data_f.isna().sum()"
   ]
  },
  {
   "cell_type": "markdown",
   "id": "c3f5aca7",
   "metadata": {},
   "source": [
    "Итак мы имеем следующее:\n",
    "    N (число объектов) - 7999  \n",
    "    d (число признаков) - 20  \n",
    "    K (количество классов) - 2  \n",
    "    Наличие пропущенных значений - да, но их очень мало, то есть < 0.01%   \n",
    "    Разнородные признаки - да  \n",
    "    Несбалансированные классы - 89/11  \n",
    "    Большое количество выбросов - нет  \n",
    "    Большое количество выбросов - нет  \n",
    "    Наличие текстовых признаков нет  \n",
    "    "
   ]
  },
  {
   "cell_type": "code",
   "execution_count": null,
   "id": "9c3f2ac1",
   "metadata": {},
   "outputs": [],
   "source": []
  }
 ],
 "metadata": {
  "kernelspec": {
   "display_name": "Python 3 (ipykernel)",
   "language": "python",
   "name": "python3"
  },
  "language_info": {
   "codemirror_mode": {
    "name": "ipython",
    "version": 3
   },
   "file_extension": ".py",
   "mimetype": "text/x-python",
   "name": "python",
   "nbconvert_exporter": "python",
   "pygments_lexer": "ipython3",
   "version": "3.9.13"
  }
 },
 "nbformat": 4,
 "nbformat_minor": 5
}
